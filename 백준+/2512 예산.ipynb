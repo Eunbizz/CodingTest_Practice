{
 "cells": [
  {
   "cell_type": "markdown",
   "metadata": {},
   "source": [
    "# 예산\n",
    "\n",
    "https://www.acmicpc.net/problem/2512"
   ]
  },
  {
   "cell_type": "markdown",
   "metadata": {},
   "source": [
    "국가의 역할 중 하나는 여러 지방의 예산요청을 심사하여 국가의 예산을 분배하는 것이다. 국가예산의 총액은 미리 정해져 있어서 모든 예산요청을 배정해 주기는 어려울 수도 있다. 그래서 정해진 총액 이하에서 가능한 한 최대의 총 예산을 다음과 같은 방법으로 배정한다.\n",
    "\n",
    "모든 요청이 배정될 수 있는 경우에는 요청한 금액을 그대로 배정한다.\n",
    "모든 요청이 배정될 수 없는 경우에는 특정한 정수 상한액을 계산하여 그 이상인 예산요청에는 모두 상한액을 배정한다. 상한액 이하의 예산요청에 대해서는 요청한 금액을 그대로 배정한다. \n",
    "예를 들어, 전체 국가예산이 485이고 4개 지방의 예산요청이 각각 120, 110, 140, 150이라고 하자. 이 경우, 상한액을 127로 잡으면, 위의 요청들에 대해서 각각 120, 110, 127, 127을 배정하고 그 합이 484로 가능한 최대가 된다. \n",
    "\n",
    "여러 지방의 예산요청과 국가예산의 총액이 주어졌을 때, 위의 조건을 모두 만족하도록 예산을 배정하는 프로그램을 작성하시오."
   ]
  },
  {
   "cell_type": "markdown",
   "metadata": {},
   "source": [
    "첫째 줄에는 지방의 수를 의미하는 정수 N이 주어진다. N은 3 이상 10,000 이하이다. 다음 줄에는 각 지방의 예산요청을 표현하는 N개의 정수가 빈칸을 사이에 두고 주어진다. 이 값들은 모두 1 이상 100,000 이하이다. 그 다음 줄에는 총 예산을 나타내는 정수 M이 주어진다. M은 N 이상 1,000,000,000 이하이다.\n",
    "\n",
    "첫째 줄에는 배정된 예산들 중 최댓값인 정수를 출력한다. "
   ]
  },
  {
   "cell_type": "markdown",
   "metadata": {},
   "source": [
    "## 풀이\n",
    "\n",
    "상한액에 대한 이분탐색\n",
    "\n",
    "1. 상한액에 대한 최솟값(0)과 최댓값(150)을 생각.\n",
    "\n",
    "2. 0-150의 중간값인 75부터 예산 분배를 계산 -> 300\n",
    "\n",
    "3. 300은 485보다 작으니 75-150을 고려\n",
    "\n",
    "4. 75-150 중간값((75+150)//2)을 계산 -> 446\n",
    "\n",
    "5. 위의 과정 반복하여 가장 적절한 상한액 추출\n",
    "\n",
    "6. 예산 중 최댓값 찾기\n"
   ]
  },
  {
   "cell_type": "code",
   "execution_count": null,
   "metadata": {},
   "outputs": [],
   "source": [
    "n = int(input())\n",
    "requests = list(map(int, input().split()))\n",
    "budget = int(input())\n"
   ]
  },
  {
   "cell_type": "code",
   "execution_count": null,
   "metadata": {},
   "outputs": [],
   "source": [
    "def calculate_needed_budget(upper_bound: int) -> int:\n",
    "    # 상환액이 upper_bound 일 때 필요한 예산을 계산하는 함수\n",
    "    \n",
    "    needed_budget = 0\n",
    "    for request in requests:\n",
    "        needed_budget += min(request, upper_bound)\n",
    "        \n",
    "    return needed_budget\n",
    "\n",
    "low = 0\n",
    "high = max(requests)\n",
    "good_upper_bound = -1 # 찾고자 하는 적절한 상한액을 의미(초기화)\n",
    "\n",
    "\n",
    "while low <= high:\n",
    "    mid = (low+high) // 2\n",
    "    \n",
    "    if calculate_needed_budget(mid) <= budget:\n",
    "        good_upper_bound = mid\n",
    "        low = mid + 1 # 총 예산 보다 작거나 같으면 mid를 최솟값으로\n",
    "    else:\n",
    "        high = mid - 1\n",
    "        \n",
    "answer = -1 #초기화\n",
    "\n",
    "for request in requests: #답은 모든 예산 중 최댓값 찾기\n",
    "    given = min(request, good_upper_bound) # 지방 별 예산 \n",
    "    answer = max(answer, given) # 예산들 비교해보며 최댓값 갱신\n",
    "print(answer)"
   ]
  },
  {
   "cell_type": "code",
   "execution_count": null,
   "metadata": {},
   "outputs": [],
   "source": [
    "def calculate_needed_budjet(upper_bound: int) -> int:\n",
    "    needed_budget = 0\n",
    "    for request in requests:\n",
    "        needed_budget += min(request, upper_bound)\n",
    "    return needed_budget\n",
    "\n",
    "low = 0\n",
    "high = max(requests)\n",
    "good_upper_bound = -1\n",
    "\n",
    "while low <= high:\n",
    "    mid = (low+high) // 2\n",
    "    \n",
    "    if calculate_needed_budget(mid) <= budget:\n",
    "        good_upper"
   ]
  }
 ],
 "metadata": {
  "kernelspec": {
   "display_name": "Python 3",
   "language": "python",
   "name": "python3"
  },
  "language_info": {
   "codemirror_mode": {
    "name": "ipython",
    "version": 3
   },
   "file_extension": ".py",
   "mimetype": "text/x-python",
   "name": "python",
   "nbconvert_exporter": "python",
   "pygments_lexer": "ipython3",
   "version": "3.8.5"
  },
  "toc": {
   "base_numbering": 1,
   "nav_menu": {},
   "number_sections": true,
   "sideBar": true,
   "skip_h1_title": false,
   "title_cell": "Table of Contents",
   "title_sidebar": "Contents",
   "toc_cell": false,
   "toc_position": {},
   "toc_section_display": true,
   "toc_window_display": false
  }
 },
 "nbformat": 4,
 "nbformat_minor": 5
}
