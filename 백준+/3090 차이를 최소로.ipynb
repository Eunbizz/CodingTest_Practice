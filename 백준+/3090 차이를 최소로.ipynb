{
 "cells": [
  {
   "cell_type": "markdown",
   "metadata": {},
   "source": [
    "정수 N개로 이루어진 배열 A가 주어진다. 상근이는 수열의 수 하나를 골라서 값을 1 감소시킬 수 있다. 단, 수는 1보다 작아질 수 없다.\n",
    "\n",
    "상근이는 위의 감소시키는 연산을 최대 T번 하려고 한다. 이때, 인접한 수의 차이의 최댓값을 최소로 하는 프로그램을 출력하시오.\n",
    "\n",
    "첫째 줄에 N과 T가 주어진다. (2 ≤ N ≤ 100 000, 1 ≤ T ≤ 109)\n",
    "\n",
    "둘째 줄에는 배열 A에 들어있는 수 A1, A2, ..., AN이 주어진다. (1 ≤ Ai < 109)\n",
    "\n",
    "첫째 줄에 인접한 수의 차이의 최댓값을 가장 작게한 배열 A의 A1, A2, ..., AN을 공백으로 구분하여 출력한다."
   ]
  },
  {
   "cell_type": "markdown",
   "metadata": {},
   "source": [
    "    \"차이의 최댓값을 x 이하로 만들기 위해 연산이 적어도 몇개가 필요한가?\"\n",
    "    \n",
    "    예)\n",
    "    \n",
    "    x= 3\n",
    "    a = [10, 6, 5, 1, 9, 7, 2, 3, 10, 5, 3]\n",
    "1. 왼쪽에서 오른쪽으로 (왼쪽 << 오른쪽이면 오른쪽의 숫자 줄이기)\n",
    "2. 오른쪽에서 왼쪽으로 (오른쪽 << 왼쪽이면 왼쪽의 숫자 줄이기)\n"
   ]
  },
  {
   "cell_type": "markdown",
   "metadata": {},
   "source": [
    "a = [4 2 3 7 6]\n",
    "\n",
    "1 감소시키는 연산 5번\n",
    "\n",
    "\n",
    "\"인접한 수의 차이의 최댓값\"\n",
    "\n",
    "최댓값의 후보 = (0, max(a))\n",
    "\n",
    "\"인접한 수의 차이의 최댓값이 3(mid)이 되도록 만들기 위한 연산의 최소횟수\" <= 5가 되는지 확인\n",
    "\n",
    "1. 왼쪽에서 오른쪽으로 확인하며 오차 줄임\n",
    "2. 오른쪽에서 왼쪽으로 확인하며 오차 줄임\n",
    "3. 연산의 최소횟수가 5보다 작을 경우 high = mid-1\n",
    "4. 연산의 최소횟수가 5보다 클 경우 low = mid+1\n"
   ]
  },
  {
   "cell_type": "code",
   "execution_count": 4,
   "metadata": {},
   "outputs": [
    {
     "name": "stdout",
     "output_type": "stream",
     "text": [
      "3 2\n",
      "3 2 3 2 2\n",
      "2 2 2 2 2\n"
     ]
    }
   ],
   "source": [
    "N, T = map(int, input().split())\n",
    "A = list(map(int, input().split()))\n",
    "\n",
    "def needed_num_operation(x:int)->int:\n",
    "    # 차이를 x 이하로 만들기 위해 필요한 연산의 횟수\n",
    "    B = [A[i] for i in range(N)]\n",
    "    # A 배열이 바뀌면 안되기 때문에 임시 배열을 만듦\n",
    "    \n",
    "    num_operation = 0 # 연산 누적\n",
    "    for i in range(N-1): #왼쪽에서 오른쪽\n",
    "        if B[i] + x < B[i +1]:\n",
    "            num_operation += B[i+1] - B[i] - x\n",
    "            B[i+1] = B[i] + x\n",
    "            \n",
    "    for i in range(N-1, 0, -1): #오른쪽에서 왼쪽\n",
    "        if B[i] + x < B[i-1]:\n",
    "            num_operation += B[i-1] - B[i] - x\n",
    "            B[i-1] = B[i] + x\n",
    "    return num_operation\n",
    "        \n",
    "\n",
    "low = 0\n",
    "high = int(1e9)\n",
    "answer = -1\n",
    "\n",
    "while low <= high:\n",
    "    mid = (low + high) // 2\n",
    "    \n",
    "    if needed_num_operation(mid) <= T:\n",
    "        answer = mid\n",
    "        high = mid -1\n",
    "    else:\n",
    "        low = mid + 1\n",
    "        \n",
    "for i in range(N-1):\n",
    "    if A[i] + answer < A[i+1]:\n",
    "        A[i+1] = A[i] + answer\n",
    "for i in range(N-1, 0, -1):\n",
    "    if A[i] + answer < A[i-1]:\n",
    "        A[i-1] = A[i] + answer\n",
    "\n",
    "print(\" \".join(list(map(str, A))))\n",
    "\n"
   ]
  },
  {
   "cell_type": "code",
   "execution_count": null,
   "metadata": {},
   "outputs": [],
   "source": []
  }
 ],
 "metadata": {
  "kernelspec": {
   "display_name": "Python 3",
   "language": "python",
   "name": "python3"
  },
  "language_info": {
   "codemirror_mode": {
    "name": "ipython",
    "version": 3
   },
   "file_extension": ".py",
   "mimetype": "text/x-python",
   "name": "python",
   "nbconvert_exporter": "python",
   "pygments_lexer": "ipython3",
   "version": "3.8.5"
  },
  "toc": {
   "base_numbering": 1,
   "nav_menu": {},
   "number_sections": true,
   "sideBar": true,
   "skip_h1_title": false,
   "title_cell": "Table of Contents",
   "title_sidebar": "Contents",
   "toc_cell": false,
   "toc_position": {},
   "toc_section_display": true,
   "toc_window_display": false
  }
 },
 "nbformat": 4,
 "nbformat_minor": 4
}
