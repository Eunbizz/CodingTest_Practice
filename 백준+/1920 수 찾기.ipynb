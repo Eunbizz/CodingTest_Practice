{
 "cells": [
  {
   "cell_type": "markdown",
   "metadata": {},
   "source": [
    "N개의 정수 A[1], A[2], …, A[N]이 주어져 있을 때, 이 안에 X라는 정수가 존재하는지 알아내는 프로그램을 작성하시오.\n",
    "\n",
    "첫째 줄에 자연수 N(1 ≤ N ≤ 100,000)이 주어진다. 다음 줄에는 N개의 정수 A[1], A[2], …, A[N]이 주어진다. 다음 줄에는 M(1 ≤ M ≤ 100,000)이 주어진다. 다음 줄에는 M개의 수들이 주어지는데, 이 수들이 A안에 존재하는지 알아내면 된다. 모든 정수의 범위는 -231 보다 크거나 같고 231보다 작다.\n",
    "\n",
    "M개의 줄에 답을 출력한다. 존재하면 1을, 존재하지 않으면 0을 출력한다"
   ]
  },
  {
   "cell_type": "code",
   "execution_count": 8,
   "metadata": {},
   "outputs": [
    {
     "name": "stdout",
     "output_type": "stream",
     "text": [
      "5\n",
      "4 1 5 2 3\n",
      "5\n",
      "1 3 7 9 5\n",
      "1\n",
      "1\n",
      "0\n",
      "0\n",
      "1\n"
     ]
    }
   ],
   "source": [
    "N = int(input())\n",
    "NN = list(map(int, input().split()))\n",
    "M = int(input())\n",
    "MM = list(map(int, input().split()))\n",
    "answer = []\n",
    "\n",
    "for i in range(M):\n",
    "    if MM[i] in NN:\n",
    "        answer.append(1)\n",
    "    else:\n",
    "        answer.append(0)\n",
    "for i in range(len(answer)):\n",
    "    print(answer[i])"
   ]
  },
  {
   "cell_type": "code",
   "execution_count": null,
   "metadata": {},
   "outputs": [],
   "source": [
    "from sys import stdin, stdout\n",
    "n = stdin.readline()\n",
    "N = set(stdin.readline().split())\n",
    "m = stdin.readline()\n",
    "M = stdin.readline().split()\n",
    "\n",
    "for i in M:\n",
    "    stdout.write('1\\n') if i in N else stdout.write('0\\n')"
   ]
  },
  {
   "cell_type": "markdown",
   "metadata": {},
   "source": [
    "한 달 전에 푼 문제를 완저니 까먹었다.. 복습도 정말 중요하다"
   ]
  }
 ],
 "metadata": {
  "kernelspec": {
   "display_name": "Python 3",
   "language": "python",
   "name": "python3"
  },
  "language_info": {
   "codemirror_mode": {
    "name": "ipython",
    "version": 3
   },
   "file_extension": ".py",
   "mimetype": "text/x-python",
   "name": "python",
   "nbconvert_exporter": "python",
   "pygments_lexer": "ipython3",
   "version": "3.8.5"
  },
  "toc": {
   "base_numbering": 1,
   "nav_menu": {},
   "number_sections": true,
   "sideBar": true,
   "skip_h1_title": false,
   "title_cell": "Table of Contents",
   "title_sidebar": "Contents",
   "toc_cell": false,
   "toc_position": {},
   "toc_section_display": true,
   "toc_window_display": false
  }
 },
 "nbformat": 4,
 "nbformat_minor": 4
}
