{
 "cells": [
  {
   "cell_type": "markdown",
   "metadata": {},
   "source": [
    "https://www.acmicpc.net/problem/2015"
   ]
  },
  {
   "cell_type": "markdown",
   "metadata": {},
   "source": [
    "A[1], A[2], ..., A[N]의 N개의 정수가 저장되어 있는 배열이 있다. 이 배열 A의 부분합이란 1 ≤ i ≤ j ≤ N인 정수 i와 j에 대해 A[i]부터 A[j]까지의 합을 말한다.\n",
    "\n",
    "N과 A[1], A[2], ..., A[N]이 주어졌을 때, 이러한 N×(N+1)/2개의 부분합 중 합이 K인 것이 몇 개나 있는지를 구하는 프로그램을 작성하시오.\n"
   ]
  },
  {
   "cell_type": "markdown",
   "metadata": {},
   "source": [
    "첫째 줄에 정수 N과 K가 주어진다. (1 ≤ N ≤ 200,000, |K| ≤ 2,000,000,000) N과 K 사이에는 빈칸이 하나 있다. 둘째 줄에는 배열 A를 이루는 N개의 정수가 빈 칸을 사이에 두고 A[1], A[2], ..., A[N]의 순서로 주어진다. 주어지는 정수의 절댓값은 10,000을 넘지 않는다."
   ]
  },
  {
   "cell_type": "markdown",
   "metadata": {},
   "source": [
    "첫째 줄에 합이 K인 부분합의 개수를 출력한다."
   ]
  },
  {
   "cell_type": "markdown",
   "metadata": {},
   "source": [
    "예제1) [2, -2, 2, -2], 목표: 0 (연속한 구간이어야 함)\n",
    "\n",
    "2, -2\n",
    "\n",
    "-2, 2\n",
    "\n",
    "2, -2\n",
    "\n",
    "2, -2, 2, -2\n",
    "\n"
   ]
  },
  {
   "cell_type": "markdown",
   "metadata": {},
   "source": [
    "index 0 부터 시작하여 0까지 끝나는 구간에서 목표합이 있는지 확인\n",
    "\n",
    "[?, 1] 인 경우 psum[1] - psum[?-1] = 2를 충족하는 ?값이 몇 개 인지\n",
    "\n",
    "psum[?-1]이 0일 경우 1개 추가"
   ]
  },
  {
   "cell_type": "code",
   "execution_count": null,
   "metadata": {},
   "outputs": [],
   "source": [
    "import sys\n",
    "\n",
    "N, K = map(int, sys.stdin.readline().split())\n",
    "a = list(map(int, sys.stdin.readline().split()))\n",
    "\n",
    "psum = [0] * N\n",
    "psum[0] = a[0]\n",
    "\n",
    "for i in range(1, N):\n",
    "    psum[i] = psum[i-1] + a[i]\n",
    "\n",
    "answer = 0\n",
    "count = {} #딕셔너리 count[key] = 내 앞에 psum값이 key인 것의 개수\n",
    "\n",
    "for i in range(N):\n",
    "    goal = psum[i] - K\n",
    "    \n",
    "    if goal in count: # 내 앞에 goal인 psum이 있다면 answer += 개수\n",
    "        answer += count[goal]\n",
    "        \n",
    "    if goal == 0:\n",
    "        answer += 1\n",
    "    \n",
    "    # 초기화\n",
    "    if psum[i] not in count:\n",
    "        count[psum[i]] = 0\n",
    "        \n",
    "    count[psum[i]] += 1 # 내 앞에 psum 값을 +1하여 입력\n",
    "print(answer)"
   ]
  }
 ],
 "metadata": {
  "kernelspec": {
   "display_name": "Python 3",
   "language": "python",
   "name": "python3"
  },
  "language_info": {
   "codemirror_mode": {
    "name": "ipython",
    "version": 3
   },
   "file_extension": ".py",
   "mimetype": "text/x-python",
   "name": "python",
   "nbconvert_exporter": "python",
   "pygments_lexer": "ipython3",
   "version": "3.8.5"
  },
  "toc": {
   "base_numbering": 1,
   "nav_menu": {},
   "number_sections": true,
   "sideBar": true,
   "skip_h1_title": false,
   "title_cell": "Table of Contents",
   "title_sidebar": "Contents",
   "toc_cell": false,
   "toc_position": {},
   "toc_section_display": true,
   "toc_window_display": false
  }
 },
 "nbformat": 4,
 "nbformat_minor": 4
}
