{
 "cells": [
  {
   "cell_type": "markdown",
   "metadata": {},
   "source": [
    "https://www.acmicpc.net/problem/14247\n",
    "\n",
    "영선이는 나무꾼으로 나무를 구하러 오전에 산에 오른다. 산에는 n개의 나무가 있는데, 영선이는 하루에 한 나무씩 n일 산에 오르며 나무를 잘라갈 것이다. 하지만 이 산은 영험한 기운이 있어 나무들이 밤만 되면 매우 빠른 속도로 자라는데, 그 자라는 길이는 나무마다 다르다.\n",
    "\n",
    "따라서, 어느 나무를 먼저 잘라가느냐에 따라서 총 구할 수 있는 나무의 양이 다른데,\n",
    "\n",
    "나무의 처음 길이와 하루에 자라는 양이 주어졌을 때, 영선이가 얻을 수 있는 최대 나무양을 구하시오.\n",
    "\n",
    "참고로, 자른 이후에도 나무는 0부터 다시 자라기 때문에 같은 나무를 여러 번 자를 수는 있다.\n",
    "\n",
    "\n",
    "첫째 줄에는 나무의 개수 n개가 있다.(1≤n≤100,000) 나무는 1번부터 n번까지 있다.\n",
    "\n",
    "다음 줄에는 첫날 올라갔을 때 나무의 길이들 Hi가 n개가 순서대로 주어진다.(1≤Hi≤100,000)\n",
    "\n",
    "그 다음 줄에는 나무들이 자라는 길이 Ai가 n개가 순서대로 주어진다.(1≤Ai≤10,000)\n",
    "\n",
    "\n",
    "영선이가 나무를 잘라서 구할 수 있는 최대 양을 출력하시오."
   ]
  },
  {
   "cell_type": "markdown",
   "metadata": {},
   "source": [
    "행에서 가장 큰 값을 자르고(0) 기록\n",
    "\n",
    "원소마다 자라는 양 더해주기\n",
    "\n",
    "반복\n",
    "\n",
    "--> 오답!\n",
    "\n",
    "1. 한 나무를 여러번 자르는게 손해\n",
    "-> n일 동안 n 그루의 나무\n",
    "\n",
    "-> 모든 나무를 다 한 번씩\n",
    "\n",
    "-> 나무를 자를 순서를 정하자\n",
    "\n",
    "2. 나중에 팔면 좋은거 = 성장세가 높은 종목\n",
    "-> 성장속도 순으로 정렬하여 순서대로 자르기"
   ]
  },
  {
   "cell_type": "code",
   "execution_count": null,
   "metadata": {},
   "outputs": [],
   "source": [
    "import sys\n",
    "n = int(sys.stdin.readline())\n",
    "H = list(map(int, sys.stdin.readline().split()))\n",
    "A = list(map(int, sys.stdin.readline().split()))\n",
    "\n",
    "I = list(range(N)) # 나무가 주어진 인덱스 0, 1, ..\n",
    "ans = 0\n",
    "\n",
    "I = sorted(I, key=lambda i: A[i]) # A에 따라 A가 작은 순서대로 정렬된 인덱스\n",
    "\n",
    "for i in range(n):\n",
    "    index = I[i]\n",
    "    ans += H[index] + i * A[index] # 길이 + 자란날 * 자라는양\n",
    "\n",
    "print(ans)\n",
    "    "
   ]
  }
 ],
 "metadata": {
  "kernelspec": {
   "display_name": "Python 3",
   "language": "python",
   "name": "python3"
  },
  "language_info": {
   "codemirror_mode": {
    "name": "ipython",
    "version": 3
   },
   "file_extension": ".py",
   "mimetype": "text/x-python",
   "name": "python",
   "nbconvert_exporter": "python",
   "pygments_lexer": "ipython3",
   "version": "3.8.5"
  },
  "toc": {
   "base_numbering": 1,
   "nav_menu": {},
   "number_sections": true,
   "sideBar": true,
   "skip_h1_title": false,
   "title_cell": "Table of Contents",
   "title_sidebar": "Contents",
   "toc_cell": false,
   "toc_position": {},
   "toc_section_display": true,
   "toc_window_display": false
  }
 },
 "nbformat": 4,
 "nbformat_minor": 4
}
